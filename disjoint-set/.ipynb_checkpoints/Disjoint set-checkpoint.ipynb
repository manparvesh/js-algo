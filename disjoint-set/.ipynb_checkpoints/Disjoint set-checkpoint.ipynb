{
 "cells": [
  {
   "cell_type": "markdown",
   "metadata": {},
   "source": [
    "## Disjoint set implementation in JavaScript"
   ]
  },
  {
   "cell_type": "code",
   "execution_count": 1,
   "metadata": {},
   "outputs": [
    {
     "data": {
      "text/plain": [
       "'use strict'"
      ]
     },
     "execution_count": 1,
     "metadata": {},
     "output_type": "execute_result"
    }
   ],
   "source": [
    "'use strict';"
   ]
  },
  {
   "cell_type": "markdown",
   "metadata": {},
   "source": [
    "Implementing the class"
   ]
  },
  {
   "cell_type": "code",
   "execution_count": 2,
   "metadata": {},
   "outputs": [
    {
     "data": {
      "text/plain": [
       "[Function: DisjointSet]"
      ]
     },
     "execution_count": 2,
     "metadata": {},
     "output_type": "execute_result"
    }
   ],
   "source": [
    "class DisjointSet{\n",
    "    // constructor function\n",
    "    constructor(n){\n",
    "        this.id = new Array(n);\n",
    "        this.size = new Array(n);\n",
    "        this.count = n;\n",
    "        \n",
    "        // set ids for al elements and size of all to 1\n",
    "        for(let i=0;i<n;i++){\n",
    "            this.id[i] = i;\n",
    "            this.size[i] = 1;\n",
    "        }\n",
    "    }\n",
    "    \n",
    "    getCount(){\n",
    "        return this.count;\n",
    "    }\n",
    "    \n",
    "    // return id of component correspoding to object n\n",
    "    find(n){\n",
    "        let root = n;\n",
    "        while(root != this.id[root]) root = this.id[root];\n",
    "        \n",
    "        while(n != root){\n",
    "            let new_n = this.id[n];\n",
    "            this.id[n] = root;\n",
    "            n = new_n;\n",
    "        }\n",
    "        \n",
    "        return root;\n",
    "    }\n",
    "    \n",
    "    // union function\n",
    "    union(x, y){\n",
    "        let i = this.find(x);\n",
    "        let j = this.find(y);\n",
    "        \n",
    "        if(i==j) return;\n",
    "        \n",
    "        // make smaller root point to larger one\n",
    "        if(this.size[i] < this.size[j]){\n",
    "            this.id[i] = j;\n",
    "            this.size[j] += this.size[i];\n",
    "        }else{\n",
    "            this.id[j] = i;\n",
    "            this.size[i] += this.size[j];\n",
    "        }\n",
    "        \n",
    "        this.count--;\n",
    "    }\n",
    "    \n",
    "    connected(x, y){\n",
    "        return this.find(x) == this.find(y);\n",
    "    }\n",
    "}"
   ]
  },
  {
   "cell_type": "markdown",
   "metadata": {},
   "source": [
    "Code to test our implementation"
   ]
  },
  {
   "cell_type": "code",
   "execution_count": 3,
   "metadata": {},
   "outputs": [
    {
     "name": "stdout",
     "output_type": "stream",
     "text": [
      "true\n",
      "false\n"
     ]
    }
   ],
   "source": [
    "let ds = new DisjointSet(10);\n",
    "ds.union(4, 5);\n",
    "ds.union(1, 2);\n",
    "ds.union(2, 4);\n",
    "console.log(ds.connected(1, 5)); // true\n",
    "console.log(ds.connected(1, 3)); // false"
   ]
  }
 ],
 "metadata": {
  "kernelspec": {
   "display_name": "Javascript (Node.js)",
   "language": "javascript",
   "name": "javascript"
  },
  "language_info": {
   "file_extension": ".js",
   "mimetype": "application/javascript",
   "name": "javascript",
   "version": "6.10.2"
  }
 },
 "nbformat": 4,
 "nbformat_minor": 2
}
