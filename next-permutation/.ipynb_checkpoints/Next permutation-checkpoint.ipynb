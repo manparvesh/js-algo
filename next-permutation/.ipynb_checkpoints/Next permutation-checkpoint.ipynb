{
 "cells": [
  {
   "cell_type": "code",
   "execution_count": 1,
   "metadata": {
    "collapsed": true
   },
   "outputs": [],
   "source": [
    "function co(s){\n",
    "    console.log(s);\n",
    "}"
   ]
  },
  {
   "cell_type": "code",
   "execution_count": 17,
   "metadata": {
    "collapsed": true
   },
   "outputs": [],
   "source": [
    "function next_permutation(s){\n",
    "    // 1 2 3 1 2\n",
    "    // starting from the end, getting the first occurence of increasing \n",
    "    let i = s.length - 1;\n",
    "    while(i > 0 && s[i-1]>=s[i]) i--;\n",
    "    \n",
    "    //co((i-1).toString() + \" \" + s[i-1].toString())\n",
    "    \n",
    "    // case when the array or string is already the last permutation\n",
    "    if(i <= 0) return {\n",
    "        result: false,\n",
    "        string: null\n",
    "    };\n",
    "    \n",
    "    // s[i-1] = pivot\n",
    "    // find rightmost point that exceeds the pivot\n",
    "    let j = s.length - 1;\n",
    "    while(s[j] <= s[i-1]){\n",
    "        j--;\n",
    "    }\n",
    "    \n",
    "    //co(j.toString() + \" \" + s[j].toString())\n",
    "    //co(s)\n",
    "    \n",
    "    // swap pivot with j\n",
    "    let temp = s[i-1];\n",
    "    s[i-1] = s[j];\n",
    "    s[j] = temp;\n",
    "    //co(s)\n",
    "    \n",
    "    // reverse the suffix part\n",
    "    j = s.length-1;\n",
    "    while(i<j){\n",
    "        temp = s[i];\n",
    "        s[i] = s[j];\n",
    "        s[j] = temp;\n",
    "        i++;\n",
    "        j--;\n",
    "    }\n",
    "    //co(s);\n",
    "    \n",
    "    return {\n",
    "        result: true,\n",
    "        string: s\n",
    "    };\n",
    "}"
   ]
  },
  {
   "cell_type": "code",
   "execution_count": 18,
   "metadata": {},
   "outputs": [
    {
     "name": "stdout",
     "output_type": "stream",
     "text": [
      "[ 1, 3, 2 ]\n",
      "[ 2, 1, 3 ]\n",
      "[ 2, 3, 1 ]\n",
      "[ 3, 1, 2 ]\n",
      "[ 3, 2, 1 ]\n"
     ]
    },
    {
     "data": {
      "text/plain": [
       "{ result: false, string: null }"
      ]
     },
     "execution_count": 18,
     "metadata": {},
     "output_type": "execute_result"
    }
   ],
   "source": [
    "// let s = \"12312\"\n",
    "s = [1, 2, 3]\n",
    "np = next_permutation(s)\n",
    "//co(np)\n",
    "while(np.result){\n",
    "    s = np.string\n",
    "    co(s)\n",
    "    np = next_permutation(s)\n",
    "}"
   ]
  }
 ],
 "metadata": {
  "kernelspec": {
   "display_name": "Javascript (Node.js)",
   "language": "javascript",
   "name": "javascript"
  },
  "language_info": {
   "file_extension": ".js",
   "mimetype": "application/javascript",
   "name": "javascript",
   "version": "6.10.2"
  }
 },
 "nbformat": 4,
 "nbformat_minor": 2
}
